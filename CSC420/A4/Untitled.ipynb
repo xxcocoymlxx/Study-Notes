{
 "cells": [
  {
   "cell_type": "code",
   "execution_count": 3,
   "metadata": {},
   "outputs": [
    {
     "name": "stdout",
     "output_type": "stream",
     "text": [
      "[[[815, 181, 1086, 331], [722, 171, 794, 196], [500, 176, 577, 204]]]\n"
     ]
    }
   ],
   "source": [
    "import numpy as np\n",
    "from scipy import spatial, cluster\n",
    "import scipy.io as spio\n",
    "import cv2 as cv\n",
    "import math\n",
    "import re\n",
    "import os\n",
    "from collections import Counter\n",
    "from matplotlib import pyplot as plot\n",
    "\n",
    "def display_image(img, file_name=None, save_norm=True, save_type=np.uint8):\n",
    "    \"\"\"\n",
    "    Shows an image (max-min normalized to 0-255), and saves it if a filename is given\n",
    "    save_norm = whether to save the normalized image\n",
    "    save_type = what datatype to save the image as\n",
    "    \"\"\"\n",
    "\n",
    "    flt_img = img.astype(float)\n",
    "    img_max, img_min = np.max(flt_img), np.min(flt_img)\n",
    "    norm = (((flt_img - img_min) / (img_max - img_min)) * 255).astype(np.uint8)\n",
    "\n",
    "    if len(img.shape) == 2:\n",
    "        plot.imshow(norm, cmap='gray')\n",
    "    elif (len(img.shape) == 3):\n",
    "        plot.imshow(cv.cvtColor(norm, cv.COLOR_BGR2RGB))\n",
    "    plot.show()\n",
    "\n",
    "    to_save = norm if save_norm else flt_img\n",
    "    if file_name:\n",
    "        cv.imwrite(file_name, to_save)\n",
    "        \n",
    "\n",
    "if __name__ == '__main__':\n",
    "   test_image_ids =[\n",
    "    x.strip()\n",
    "    for x in open(\"/Users/CYANG/Desktop/CSC420A4/data/test/test.txt\", \"r\").readlines()\n",
    "   ]\n",
    "\n",
    "   PERSON, BICYCLE, CAR = 1, 2, 3\n",
    "\n",
    "   cls_to_name = {\n",
    "        PERSON : \"PERSON\",\n",
    "        BICYCLE : \"BICYCLE\",\n",
    "        CAR : \"CAR\",\n",
    "    }\n",
    "\n",
    "   cls_to_col = {\n",
    "        PERSON:(255, 0, 0), # Blue\n",
    "        BICYCLE:(255, 255, 0),# Cyan\n",
    "        CAR:(0, 0, 255), # Red\n",
    "    }\n",
    "\n",
    "\n",
    "   for img_id in test_image_ids[:1]:\n",
    "       #{}.mat files #detactions =['__header__', '__version__', '__globals__', 'classes', 'dets','parts']\n",
    "       detections = spio.loadmat(\"/Users/CYANG/Desktop/CSC420A4/data/test/results/dets-test/{}_dets\".format(img_id))\n",
    "       img = cv.imread(\"/Users/CYANG/Desktop/CSC420A4/data/test/left/{}.jpg\".format(img_id))\n",
    "\n",
    "       #car, person, bicycle, if its 1, then only has cars, if its 3, then it has all 3 objects\n",
    "       num_class = len(detections['dets'][0])\n",
    "\n",
    "       class_lst = []\n",
    "       for cls in range(num_class):\n",
    "           object_lst = []\n",
    "           for i in range(len(detections['dets'][0][cls])):#every object in each class\n",
    "               obj = []\n",
    "\n",
    "               for index in range(len(detections['dets'][0][cls]) + 1):\n",
    "                   obj.append(int(detections['dets'][0][0][i][index]))\n",
    "\n",
    "               object_lst.append(obj)\n",
    "            \n",
    "           class_lst.append(object_lst)\n",
    "           print(class_lst)\n",
    "\n",
    "     #               cv.putText(img, label_txt, label_coords, cv.FONT_HERSHEY_SIMPLEX, 0.65, cls_to_col[cls], 2)\n",
    "\n",
    "     #               print(img_id)\n",
    "     #               display_image(img, \"q2c-{}-detections.png\".format(img_id))\n",
    "\n"
   ]
  },
  {
   "cell_type": "code",
   "execution_count": null,
   "metadata": {},
   "outputs": [],
   "source": []
  }
 ],
 "metadata": {
  "kernelspec": {
   "display_name": "Python 3",
   "language": "python",
   "name": "python3"
  },
  "language_info": {
   "codemirror_mode": {
    "name": "ipython",
    "version": 3
   },
   "file_extension": ".py",
   "mimetype": "text/x-python",
   "name": "python",
   "nbconvert_exporter": "python",
   "pygments_lexer": "ipython3",
   "version": "3.6.0"
  }
 },
 "nbformat": 4,
 "nbformat_minor": 2
}
