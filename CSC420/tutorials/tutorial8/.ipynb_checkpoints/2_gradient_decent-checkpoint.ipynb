{
 "cells": [
  {
   "cell_type": "code",
   "execution_count": 2,
   "metadata": {
    "collapsed": false
   },
   "outputs": [],
   "source": [
    "import torch\n",
    "import torch.nn as nn\n",
    "import numpy as np"
   ]
  },
  {
   "cell_type": "code",
   "execution_count": 3,
   "metadata": {
    "collapsed": true
   },
   "outputs": [],
   "source": [
    "class Linear(nn.Module):\n",
    "    def __init__(self, input_size, output_size):\n",
    "        super(Linear, self).__init__()\n",
    "        self.fc1 = nn.Linear(input_size, output_size) \n",
    "\n",
    "    def forward(self, x):\n",
    "        out = self.fc1(x)\n",
    "        return out"
   ]
  },
  {
   "cell_type": "code",
   "execution_count": 4,
   "metadata": {
    "collapsed": false
   },
   "outputs": [
    {
     "name": "stdout",
     "output_type": "stream",
     "text": [
      "tensor([ 1.5006])\n",
      "('w: ', Parameter containing:\n",
      "tensor([[ 0.3313,  0.4989]]))\n",
      "('b: ', Parameter containing:\n",
      "tensor([ 0.1715]))\n",
      "('grad w: ', None)\n",
      "('grad b: ', None)\n"
     ]
    }
   ],
   "source": [
    "model = Linear(2, 1)\n",
    "x = torch.from_numpy(np.array([1.,2.], dtype=np.float32))\n",
    "y = model.forward(x)\n",
    "\n",
    "print y\n",
    "\n",
    "print ('w: ', model.fc1.weight)\n",
    "print ('b: ', model.fc1.bias)\n",
    "\n",
    "print ('grad w: ', model.fc1.weight.grad)\n",
    "print ('grad b: ', model.fc1.bias.grad)"
   ]
  },
  {
   "cell_type": "code",
   "execution_count": 5,
   "metadata": {
    "collapsed": false
   },
   "outputs": [
    {
     "name": "stdout",
     "output_type": "stream",
     "text": [
      "('w: ', Parameter containing:\n",
      "tensor([[ 0.3313,  0.4989]]))\n",
      "('b: ', Parameter containing:\n",
      "tensor([ 0.1715]))\n",
      "('grad w: ', tensor([[ 1.,  2.]]))\n",
      "('grad b: ', tensor([ 1.]))\n"
     ]
    }
   ],
   "source": [
    "y.backward()\n",
    "\n",
    "\n",
    "print ('w: ', model.fc1.weight)\n",
    "print ('b: ', model.fc1.bias)\n",
    "\n",
    "print ('grad w: ', model.fc1.weight.grad)\n",
    "print ('grad b: ', model.fc1.bias.grad)"
   ]
  },
  {
   "cell_type": "code",
   "execution_count": 7,
   "metadata": {
    "collapsed": false
   },
   "outputs": [
    {
     "name": "stdout",
     "output_type": "stream",
     "text": [
      "('loss after ', 0, ' step optimization: ', 1.3112082481384277)\n",
      "('loss after ', 1, ' step optimization: ', 1.1604788303375244)\n",
      "('loss after ', 2, ' step optimization: ', 0.9287950396537781)\n",
      "('loss after ', 3, ' step optimization: ', 0.7193642854690552)\n",
      "('loss after ', 4, ' step optimization: ', 0.6166735887527466)\n",
      "('loss after ', 5, ' step optimization: ', 0.6472823619842529)\n",
      "('loss after ', 6, ' step optimization: ', 0.7736108303070068)\n",
      "('loss after ', 7, ' step optimization: ', 0.9209372401237488)\n",
      "('loss after ', 8, ' step optimization: ', 1.0192596912384033)\n",
      "('loss after ', 9, ' step optimization: ', 1.0354082584381104)\n"
     ]
    }
   ],
   "source": [
    "x = torch.randn(10, 3)\n",
    "y = torch.randn(10, 2)\n",
    "model = Linear(3, 2)\n",
    "# Build loss function and optimizer.\n",
    "loss_function = nn.MSELoss()\n",
    "optimizer = torch.optim.SGD(model.parameters(), lr=0.1)\n",
    "# Forward pass.\n",
    "for i in range(10):\n",
    "    # equal to model.forward(x)\n",
    "    pred = model(x)\n",
    "    # Compute loss.\n",
    "    loss = loss_function(pred, y)\n",
    "    print('loss after ',i,' step optimization: ', loss.item())\n",
    "    \n",
    "    \n",
    "    optimizer.zero_grad()\n",
    "    # Backward pass.\n",
    "    loss.backward()\n",
    "    # 1-step gradient descent.\n",
    "    optimizer.step()\n",
    "    # Print out the loss after 1-step gradient descent.\n",
    "\n"
   ]
  },
  {
   "cell_type": "code",
   "execution_count": null,
   "metadata": {
    "collapsed": true
   },
   "outputs": [],
   "source": []
  }
 ],
 "metadata": {
  "anaconda-cloud": {},
  "kernelspec": {
   "display_name": "Python [conda env:py27ml]",
   "language": "python",
   "name": "conda-env-py27ml-py"
  },
  "language_info": {
   "codemirror_mode": {
    "name": "ipython",
    "version": 2
   },
   "file_extension": ".py",
   "mimetype": "text/x-python",
   "name": "python",
   "nbconvert_exporter": "python",
   "pygments_lexer": "ipython2",
   "version": "2.7.13"
  }
 },
 "nbformat": 4,
 "nbformat_minor": 2
}
