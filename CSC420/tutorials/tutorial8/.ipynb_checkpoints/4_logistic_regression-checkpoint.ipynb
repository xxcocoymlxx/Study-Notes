{
 "cells": [
  {
   "cell_type": "code",
   "execution_count": 7,
   "metadata": {
    "collapsed": false
   },
   "outputs": [
    {
     "name": "stdout",
     "output_type": "stream",
     "text": [
      "done\n"
     ]
    }
   ],
   "source": [
    "import torch\n",
    "import torch.nn as nn\n",
    "import torchvision\n",
    "import torchvision.transforms as transforms\n",
    "\n",
    "\n",
    "# Hyper-parameters \n",
    "input_size = 784\n",
    "num_classes = 10\n",
    "num_epochs = 5\n",
    "batch_size = 100\n",
    "learning_rate = 0.001\n",
    "\n",
    "# MNIST dataset (images and labels)\n",
    "train_dataset = torchvision.datasets.MNIST(root='../../data', \n",
    "                                           train=True, \n",
    "                                           transform=transforms.ToTensor(),\n",
    "                                           download=True)\n",
    "\n",
    "test_dataset = torchvision.datasets.MNIST(root='../../data', \n",
    "                                          train=False, \n",
    "                                          transform=transforms.ToTensor())\n",
    "\n",
    "# Data loader (input pipeline)\n",
    "train_loader = torch.utils.data.DataLoader(dataset=train_dataset, \n",
    "                                           batch_size=batch_size, \n",
    "                                           shuffle=True)\n",
    "\n",
    "test_loader = torch.utils.data.DataLoader(dataset=test_dataset, \n",
    "                                          batch_size=batch_size, \n",
    "                                          shuffle=False)\n",
    "\n",
    "################################## TODO: Implememtate Logistic regression model ##################################\n",
    "class Linear(nn.Module):\n",
    "    def __init__(self, input_size, output_size):\n",
    "        super(Linear, self).__init__()\n",
    "        self.fc1 = nn.Linear(input_size, output_size) \n",
    "\n",
    "    def forward(self, x):\n",
    "        out = self.fc1(x)\n",
    "        return out\n",
    "    \n",
    "model = Linear(input_size, num_classes)\n",
    "\n",
    "\n",
    "optimizer = torch.optim.SGD(model.parameters(), lr=learning_rate)  \n",
    "\n",
    "print \"done\"\n"
   ]
  },
  {
   "cell_type": "code",
   "execution_count": 5,
   "metadata": {
    "collapsed": false
   },
   "outputs": [
    {
     "name": "stdout",
     "output_type": "stream",
     "text": [
      "Epoch [1/5], Step [100/600], Loss: 2.2076\n",
      "Epoch [1/5], Step [200/600], Loss: 2.0866\n",
      "Epoch [1/5], Step [300/600], Loss: 2.0088\n",
      "Epoch [1/5], Step [400/600], Loss: 1.8991\n",
      "Epoch [1/5], Step [500/600], Loss: 1.8652\n",
      "Epoch [1/5], Step [600/600], Loss: 1.7906\n",
      "Epoch [2/5], Step [100/600], Loss: 1.7391\n",
      "Epoch [2/5], Step [200/600], Loss: 1.6583\n",
      "Epoch [2/5], Step [300/600], Loss: 1.6108\n",
      "Epoch [2/5], Step [400/600], Loss: 1.5688\n",
      "Epoch [2/5], Step [500/600], Loss: 1.5280\n",
      "Epoch [2/5], Step [600/600], Loss: 1.4730\n",
      "Epoch [3/5], Step [100/600], Loss: 1.4338\n",
      "Epoch [3/5], Step [200/600], Loss: 1.3243\n",
      "Epoch [3/5], Step [300/600], Loss: 1.2971\n",
      "Epoch [3/5], Step [400/600], Loss: 1.3511\n",
      "Epoch [3/5], Step [500/600], Loss: 1.2209\n",
      "Epoch [3/5], Step [600/600], Loss: 1.2968\n",
      "Epoch [4/5], Step [100/600], Loss: 1.2413\n",
      "Epoch [4/5], Step [200/600], Loss: 1.2012\n",
      "Epoch [4/5], Step [300/600], Loss: 1.2823\n",
      "Epoch [4/5], Step [400/600], Loss: 1.1697\n",
      "Epoch [4/5], Step [500/600], Loss: 1.1690\n",
      "Epoch [4/5], Step [600/600], Loss: 0.9875\n",
      "Epoch [5/5], Step [100/600], Loss: 1.1002\n",
      "Epoch [5/5], Step [200/600], Loss: 0.9284\n",
      "Epoch [5/5], Step [300/600], Loss: 1.1220\n",
      "Epoch [5/5], Step [400/600], Loss: 1.0553\n",
      "Epoch [5/5], Step [500/600], Loss: 1.0511\n",
      "Epoch [5/5], Step [600/600], Loss: 1.0406\n"
     ]
    }
   ],
   "source": [
    "################################## TODO: use cross entropy loss ##################################\n",
    "loss_function =  nn.CrossEntropyLoss() \n",
    "\n",
    "\n",
    "# Train the model\n",
    "total_step = len(train_loader)\n",
    "for epoch in range(num_epochs):\n",
    "    for i, (images, labels) in enumerate(train_loader):\n",
    "        # Reshape images to (batch_size, input_size)\n",
    "        images = images.reshape(-1, 28*28)\n",
    "        \n",
    "        # Forward pass\n",
    "        outputs = model(images)\n",
    "        loss = loss_function(outputs, labels)\n",
    "        \n",
    "        ################################## TODO: gradient decent ##################################\n",
    "        # Backward and optimize\n",
    "        optimizer.zero_grad()\n",
    "        loss.backward()\n",
    "        optimizer.step()\n",
    "        \n",
    "        \n",
    "        if (i+1) % 100 == 0:\n",
    "            print ('Epoch [{}/{}], Step [{}/{}], Loss: {:.4f}' \n",
    "                   .format(epoch+1, num_epochs, i+1, total_step, loss.item()))\n"
   ]
  },
  {
   "cell_type": "code",
   "execution_count": null,
   "metadata": {
    "collapsed": true
   },
   "outputs": [],
   "source": []
  }
 ],
 "metadata": {
  "anaconda-cloud": {},
  "kernelspec": {
   "display_name": "Python [default]",
   "language": "python",
   "name": "python2"
  },
  "language_info": {
   "codemirror_mode": {
    "name": "ipython",
    "version": 2
   },
   "file_extension": ".py",
   "mimetype": "text/x-python",
   "name": "python",
   "nbconvert_exporter": "python",
   "pygments_lexer": "ipython2",
   "version": "2.7.12"
  }
 },
 "nbformat": 4,
 "nbformat_minor": 2
}
