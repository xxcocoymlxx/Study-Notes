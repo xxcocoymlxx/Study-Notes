{
 "cells": [
  {
   "cell_type": "code",
   "execution_count": 1,
   "metadata": {},
   "outputs": [
    {
     "name": "stdout",
     "output_type": "stream",
     "text": [
      "done\n"
     ]
    }
   ],
   "source": [
    "import torch\n",
    "import torch.nn as nn\n",
    "import torchvision\n",
    "import torchvision.transforms as transforms\n",
    "\n",
    "\n",
    "# Hyper-parameters \n",
    "input_size = 784\n",
    "num_classes = 10\n",
    "num_epochs = 5\n",
    "batch_size = 100\n",
    "learning_rate = 0.001\n",
    "\n",
    "# MNIST dataset (images and labels)\n",
    "train_dataset = torchvision.datasets.MNIST(root='../../data', \n",
    "                                           train=True, \n",
    "                                           transform=transforms.ToTensor(),\n",
    "                                           download=True)\n",
    "\n",
    "test_dataset = torchvision.datasets.MNIST(root='../../data', \n",
    "                                          train=False, \n",
    "                                          transform=transforms.ToTensor())\n",
    "\n",
    "# Data loader (input pipeline)\n",
    "train_loader = torch.utils.data.DataLoader(dataset=train_dataset, \n",
    "                                           batch_size=batch_size, \n",
    "                                           shuffle=True)\n",
    "\n",
    "test_loader = torch.utils.data.DataLoader(dataset=test_dataset, \n",
    "                                          batch_size=batch_size, \n",
    "                                          shuffle=False)\n",
    "\n",
    "class Linear(nn.Module):\n",
    "    def __init__(self, input_size, output_size):\n",
    "        super(Linear, self).__init__()\n",
    "        self.fc1 = nn.Linear(input_size, output_size) \n",
    "\n",
    "    def forward(self, x):\n",
    "        out = self.fc1(x)\n",
    "        return out\n",
    "    \n",
    "model = Linear(input_size, num_classes)\n",
    "\n",
    "\n",
    "optimizer = torch.optim.SGD(model.parameters(), lr=learning_rate)  \n",
    "\n",
    "print \"done\"\n"
   ]
  },
  {
   "cell_type": "code",
   "execution_count": 4,
   "metadata": {},
   "outputs": [
    {
     "name": "stdout",
     "output_type": "stream",
     "text": [
      "torch.Size([100, 1, 28, 28])\n",
      "tensor([ 2,  5,  5,  3,  7,  9,  5,  2,  7,  2,  3,  1,  6,  6,\n",
      "         6,  1,  7,  9,  2,  1,  4,  0,  8,  7,  8,  4,  5,  7,\n",
      "         8,  7,  0,  7,  5,  2,  1,  1,  5,  2,  2,  8,  1,  7,\n",
      "         7,  8,  1,  1,  4,  4,  7,  4,  0,  7,  4,  1,  2,  3,\n",
      "         4,  7,  9,  4,  9,  7,  1,  5,  9,  5,  0,  8,  4,  3,\n",
      "         0,  4,  4,  4,  5,  5,  2,  2,  7,  9,  4,  0,  6,  4,\n",
      "         0,  4,  2,  8,  1,  8,  8,  0,  7,  2,  3,  7,  1,  4,\n",
      "         8,  0])\n"
     ]
    }
   ],
   "source": [
    "# When iteration starts, queue and thread start to load data from files.\n",
    "data_iter = iter(train_loader)\n",
    "\n",
    "# Mini-batch images and labels.\n",
    "images, labels = data_iter.next()\n",
    "\n",
    "print(images.shape)\n",
    "print(labels)"
   ]
  },
  {
   "cell_type": "code",
   "execution_count": 2,
   "metadata": {},
   "outputs": [
    {
     "name": "stdout",
     "output_type": "stream",
     "text": [
      "('Total_step,', 600)\n",
      "Epoch [1/5], Step [100/600], Loss: 2.1960\n",
      "Epoch [1/5], Step [200/600], Loss: 2.0876\n",
      "Epoch [1/5], Step [300/600], Loss: 2.0359\n",
      "Epoch [1/5], Step [400/600], Loss: 1.9495\n",
      "Epoch [1/5], Step [500/600], Loss: 1.8983\n",
      "Epoch [1/5], Step [600/600], Loss: 1.8144\n",
      "Epoch [2/5], Step [100/600], Loss: 1.7531\n",
      "Epoch [2/5], Step [200/600], Loss: 1.6826\n",
      "Epoch [2/5], Step [300/600], Loss: 1.6507\n",
      "Epoch [2/5], Step [400/600], Loss: 1.6162\n",
      "Epoch [2/5], Step [500/600], Loss: 1.5461\n",
      "Epoch [2/5], Step [600/600], Loss: 1.5403\n",
      "Epoch [3/5], Step [100/600], Loss: 1.4042\n",
      "Epoch [3/5], Step [200/600], Loss: 1.3475\n",
      "Epoch [3/5], Step [300/600], Loss: 1.3607\n",
      "Epoch [3/5], Step [400/600], Loss: 1.3315\n",
      "Epoch [3/5], Step [500/600], Loss: 1.2876\n",
      "Epoch [3/5], Step [600/600], Loss: 1.1130\n",
      "Epoch [4/5], Step [100/600], Loss: 1.2777\n",
      "Epoch [4/5], Step [200/600], Loss: 1.2109\n",
      "Epoch [4/5], Step [300/600], Loss: 1.0942\n",
      "Epoch [4/5], Step [400/600], Loss: 1.1728\n",
      "Epoch [4/5], Step [500/600], Loss: 1.1287\n",
      "Epoch [4/5], Step [600/600], Loss: 1.2093\n",
      "Epoch [5/5], Step [100/600], Loss: 1.0638\n",
      "Epoch [5/5], Step [200/600], Loss: 1.0585\n",
      "Epoch [5/5], Step [300/600], Loss: 0.9810\n",
      "Epoch [5/5], Step [400/600], Loss: 1.1232\n",
      "Epoch [5/5], Step [500/600], Loss: 0.9980\n",
      "Epoch [5/5], Step [600/600], Loss: 1.0218\n"
     ]
    }
   ],
   "source": [
    "loss_function =  nn.CrossEntropyLoss() \n",
    "\n",
    "\n",
    "# Train the model\n",
    "total_step = len(train_loader)\n",
    "print(\"Total_step,\", total_step)\n",
    "for epoch in range(num_epochs):\n",
    "    for i, (images, labels) in enumerate(train_loader):\n",
    "        # Reshape images to (batch_size, input_size)\n",
    "        images = images.reshape(-1, 28*28)\n",
    "        \n",
    "        # Forward pass\n",
    "        outputs = model(images)\n",
    "        loss = loss_function(outputs, labels)\n",
    "        \n",
    "        ################################## TODO: gradient decent ##################################\n",
    "        # Backward and optimize\n",
    "        optimizer.zero_grad()\n",
    "        loss.backward()\n",
    "        optimizer.step()\n",
    "        \n",
    "        \n",
    "        if (i+1) % 100 == 0:\n",
    "            print ('Epoch [{}/{}], Step [{}/{}], Loss: {:.4f}' \n",
    "                   .format(epoch+1, num_epochs, i+1, total_step, loss.item()))\n"
   ]
  },
  {
   "cell_type": "code",
   "execution_count": null,
   "metadata": {
    "collapsed": true
   },
   "outputs": [],
   "source": []
  }
 ],
 "metadata": {
  "anaconda-cloud": {},
  "kernelspec": {
   "display_name": "Python 3",
   "language": "python",
   "name": "python3"
  },
  "language_info": {
   "codemirror_mode": {
    "name": "ipython",
    "version": 3
   },
   "file_extension": ".py",
   "mimetype": "text/x-python",
   "name": "python",
   "nbconvert_exporter": "python",
   "pygments_lexer": "ipython3",
   "version": "3.7.4"
  }
 },
 "nbformat": 4,
 "nbformat_minor": 2
}
